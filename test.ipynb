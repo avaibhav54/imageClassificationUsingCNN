{
 "cells": [
  {
   "cell_type": "code",
   "execution_count": 8,
   "metadata": {},
   "outputs": [
    {
     "name": "stdout",
     "output_type": "stream",
     "text": [
      "Loaded model from disk\n",
      "Joker C:/Users/agarw/AI/12_ImageClassificationUsingCNN/Dataset/test\\batmanjoker_1.jpeg\n",
      "\n",
      "\n",
      "Joker C:/Users/agarw/AI/12_ImageClassificationUsingCNN/Dataset/test\\batmanjoker_2.jpeg\n",
      "\n",
      "\n",
      "Joker C:/Users/agarw/AI/12_ImageClassificationUsingCNN/Dataset/test\\batmanjoker_3.jpeg\n",
      "\n",
      "\n",
      "Joker C:/Users/agarw/AI/12_ImageClassificationUsingCNN/Dataset/test\\batmanjoker_4.jpeg\n",
      "\n",
      "\n",
      "Joker C:/Users/agarw/AI/12_ImageClassificationUsingCNN/Dataset/test\\batmanjoker_5.jpeg\n",
      "\n",
      "\n",
      "Joker C:/Users/agarw/AI/12_ImageClassificationUsingCNN/Dataset/test\\thanosMarvelMovie_1.jpeg\n",
      "\n",
      "\n",
      "Joker C:/Users/agarw/AI/12_ImageClassificationUsingCNN/Dataset/test\\thanosMarvelMovie_2.jpeg\n",
      "\n",
      "\n",
      "Joker C:/Users/agarw/AI/12_ImageClassificationUsingCNN/Dataset/test\\thanosMarvelMovie_3.jpeg\n",
      "\n",
      "\n",
      "Joker C:/Users/agarw/AI/12_ImageClassificationUsingCNN/Dataset/test\\thanosMarvelMovie_4.jpeg\n",
      "\n",
      "\n",
      "Joker C:/Users/agarw/AI/12_ImageClassificationUsingCNN/Dataset/test\\thanosMarvelMovie_5.jpeg\n",
      "\n",
      "\n"
     ]
    }
   ],
   "source": [
    "from keras.models import model_from_json\n",
    "import numpy as np\n",
    "from keras.preprocessing import image\n",
    "\n",
    "json_file = open('model.json', 'r')\n",
    "loaded_model_json = json_file.read()\n",
    "json_file.close()\n",
    "model = model_from_json(loaded_model_json)\n",
    "model.load_weights(\"model.h5\")\n",
    "print(\"Loaded model from disk\")\n",
    "\n",
    "def classify(img_file):\n",
    "    img_name = img_file\n",
    "    test_image = image.load_img(img_name, target_size = (64, 64))\n",
    "\n",
    "    test_image = image.img_to_array(test_image)\n",
    "    test_image = np.expand_dims(test_image, axis=0)\n",
    "    result = model.predict(test_image)\n",
    "\n",
    "    if result[0][0] == 1:\n",
    "        prediction = 'Thanos'\n",
    "    else:\n",
    "        prediction = 'Joker'\n",
    "    print(prediction,img_name)\n",
    "\n",
    "\n",
    "import os\n",
    "path = 'C:/Users/agarw/AI/12_ImageClassificationUsingCNN/Dataset/test'\n",
    "files = []\n",
    "# r=root, d=directories, f = files\n",
    "for r, d, f in os.walk(path):\n",
    "    for file in f:\n",
    "        if '.jpeg' in file:\n",
    "            files.append(os.path.join(r, file))\n",
    "\n",
    "for f in files:\n",
    "    classify(f)\n",
    "    print('\\n')"
   ]
  },
  {
   "cell_type": "code",
   "execution_count": null,
   "metadata": {},
   "outputs": [],
   "source": []
  }
 ],
 "metadata": {
  "kernelspec": {
   "display_name": "Python 3",
   "language": "python",
   "name": "python3"
  },
  "language_info": {
   "codemirror_mode": {
    "name": "ipython",
    "version": 3
   },
   "file_extension": ".py",
   "mimetype": "text/x-python",
   "name": "python",
   "nbconvert_exporter": "python",
   "pygments_lexer": "ipython3",
   "version": "3.8.5"
  }
 },
 "nbformat": 4,
 "nbformat_minor": 4
}
